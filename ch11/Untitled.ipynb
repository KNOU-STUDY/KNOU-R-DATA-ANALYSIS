{
 "cells": [
  {
   "cell_type": "code",
   "execution_count": 1,
   "id": "130e1c56",
   "metadata": {},
   "outputs": [
    {
     "name": "stderr",
     "output_type": "stream",
     "text": [
      "also installing the dependencies ‘sass’, ‘memoise’, ‘fontawesome’, ‘htmltools’, ‘bslib’\n",
      "\n",
      "\n"
     ]
    },
    {
     "name": "stdout",
     "output_type": "stream",
     "text": [
      "\n",
      "  There are binary versions available but the source versions are later:\n",
      "            binary source needs_compilation\n",
      "sass         0.4.1  0.4.2              TRUE\n",
      "fontawesome  0.2.2  0.4.0             FALSE\n",
      "htmltools    0.5.2  0.5.3              TRUE\n",
      "bslib        0.3.1  0.4.1             FALSE\n",
      "shiny        1.7.1  1.7.3             FALSE\n",
      "\n",
      "\n",
      "The downloaded binary packages are in\n",
      "\t/var/folders/0_/y0b7zrj14qv5x4wwd1wmzpj80000gn/T//RtmpiErk1f/downloaded_packages\n"
     ]
    },
    {
     "name": "stderr",
     "output_type": "stream",
     "text": [
      "installing the source packages ‘sass’, ‘fontawesome’, ‘htmltools’, ‘bslib’, ‘shiny’\n",
      "\n",
      "\n"
     ]
    }
   ],
   "source": [
    "install.packages('shiny')"
   ]
  },
  {
   "cell_type": "code",
   "execution_count": 2,
   "id": "95d5f1fc",
   "metadata": {},
   "outputs": [
    {
     "ename": "ERROR",
     "evalue": "Error: package or namespace load failed for ‘shiny’ in loadNamespace(i, c(lib.loc, .libPaths()), versionCheck = vI[[i]]):\n namespace ‘htmltools’ 0.5.1.1 is already loaded, but >= 0.5.2 is required\n",
     "output_type": "error",
     "traceback": [
      "Error: package or namespace load failed for ‘shiny’ in loadNamespace(i, c(lib.loc, .libPaths()), versionCheck = vI[[i]]):\n namespace ‘htmltools’ 0.5.1.1 is already loaded, but >= 0.5.2 is required\nTraceback:\n",
      "1. library(shiny)",
      "2. tryCatch({\n .     attr(package, \"LibPath\") <- which.lib.loc\n .     ns <- loadNamespace(package, lib.loc)\n .     env <- attachNamespace(ns, pos = pos, deps, exclude, include.only)\n . }, error = function(e) {\n .     P <- if (!is.null(cc <- conditionCall(e))) \n .         paste(\" in\", deparse(cc)[1L])\n .     else \"\"\n .     msg <- gettextf(\"package or namespace load failed for %s%s:\\n %s\", \n .         sQuote(package), P, conditionMessage(e))\n .     if (logical.return) \n .         message(paste(\"Error:\", msg), domain = NA)\n .     else stop(msg, call. = FALSE, domain = NA)\n . })",
      "3. tryCatchList(expr, classes, parentenv, handlers)",
      "4. tryCatchOne(expr, names, parentenv, handlers[[1L]])",
      "5. value[[3L]](cond)",
      "6. stop(msg, call. = FALSE, domain = NA)"
     ]
    }
   ],
   "source": [
    "library(shiny)"
   ]
  },
  {
   "cell_type": "code",
   "execution_count": null,
   "id": "bd347775",
   "metadata": {},
   "outputs": [],
   "source": []
  }
 ],
 "metadata": {
  "kernelspec": {
   "display_name": "R",
   "language": "R",
   "name": "ir"
  },
  "language_info": {
   "codemirror_mode": "r",
   "file_extension": ".r",
   "mimetype": "text/x-r-source",
   "name": "R",
   "pygments_lexer": "r",
   "version": "4.0.3"
  }
 },
 "nbformat": 4,
 "nbformat_minor": 5
}
