{
 "cells": [
  {
   "cell_type": "code",
   "execution_count": 1,
   "id": "3c718d13",
   "metadata": {},
   "outputs": [],
   "source": [
    "# 예제 2.5\n",
    "# U(0, 1)은 0 부터 1사이에 균일한 분포확률을 가지므로 f(x) = 1, 0 <x<1이다.\n",
    "# U(0, 1)에서 100개의 난수를 생성하여 이들의 평균을 계산해 보면 0.4954645로 0.5에 근접한 값이 얻어짐을 알 수 있다."
   ]
  },
  {
   "cell_type": "code",
   "execution_count": 2,
   "id": "c8f90e50",
   "metadata": {},
   "outputs": [
    {
     "data": {
      "text/html": [
       "1"
      ],
      "text/latex": [
       "1"
      ],
      "text/markdown": [
       "1"
      ],
      "text/plain": [
       "[1] 1"
      ]
     },
     "metadata": {},
     "output_type": "display_data"
    }
   ],
   "source": [
    "dunif(1)"
   ]
  },
  {
   "cell_type": "code",
   "execution_count": 3,
   "id": "d4a089de",
   "metadata": {},
   "outputs": [
    {
     "data": {
      "text/html": [
       "0.5"
      ],
      "text/latex": [
       "0.5"
      ],
      "text/markdown": [
       "0.5"
      ],
      "text/plain": [
       "[1] 0.5"
      ]
     },
     "metadata": {},
     "output_type": "display_data"
    }
   ],
   "source": [
    "punif(0.5)"
   ]
  },
  {
   "cell_type": "code",
   "execution_count": 4,
   "id": "fcb10f76",
   "metadata": {},
   "outputs": [
    {
     "data": {
      "text/html": [
       "0.496163377687335"
      ],
      "text/latex": [
       "0.496163377687335"
      ],
      "text/markdown": [
       "0.496163377687335"
      ],
      "text/plain": [
       "[1] 0.4961634"
      ]
     },
     "metadata": {},
     "output_type": "display_data"
    }
   ],
   "source": [
    "mean(runif(100))"
   ]
  },
  {
   "cell_type": "code",
   "execution_count": 5,
   "id": "b15a3fb0",
   "metadata": {},
   "outputs": [],
   "source": [
    "# 2.5 정규분포"
   ]
  },
  {
   "cell_type": "code",
   "execution_count": 6,
   "id": "f9256da2",
   "metadata": {},
   "outputs": [],
   "source": [
    "# 예제2.6\n",
    "# 통계학의 표준정규분포에서 Za를 제 100(1-alpha)% 백분위수로 표시한다. 예를 들어,  z0.05는 제 95% 백분위수이다."
   ]
  },
  {
   "cell_type": "code",
   "execution_count": 7,
   "id": "e87e2d96",
   "metadata": {},
   "outputs": [
    {
     "data": {
      "text/html": [
       "-1.95996398454005"
      ],
      "text/latex": [
       "-1.95996398454005"
      ],
      "text/markdown": [
       "-1.95996398454005"
      ],
      "text/plain": [
       "[1] -1.959964"
      ]
     },
     "metadata": {},
     "output_type": "display_data"
    }
   ],
   "source": [
    "qnorm(0.025)"
   ]
  },
  {
   "cell_type": "code",
   "execution_count": 8,
   "id": "256e1b75",
   "metadata": {},
   "outputs": [
    {
     "data": {
      "text/html": [
       "<style>\n",
       ".list-inline {list-style: none; margin:0; padding: 0}\n",
       ".list-inline>li {display: inline-block}\n",
       ".list-inline>li:not(:last-child)::after {content: \"\\00b7\"; padding: 0 .5ex}\n",
       "</style>\n",
       "<ol class=list-inline><li>0.241970724519143</li><li>0.398942280401433</li><li>0.241970724519143</li></ol>\n"
      ],
      "text/latex": [
       "\\begin{enumerate*}\n",
       "\\item 0.241970724519143\n",
       "\\item 0.398942280401433\n",
       "\\item 0.241970724519143\n",
       "\\end{enumerate*}\n"
      ],
      "text/markdown": [
       "1. 0.241970724519143\n",
       "2. 0.398942280401433\n",
       "3. 0.241970724519143\n",
       "\n",
       "\n"
      ],
      "text/plain": [
       "[1] 0.2419707 0.3989423 0.2419707"
      ]
     },
     "metadata": {},
     "output_type": "display_data"
    }
   ],
   "source": [
    "dnorm(c(-1,0,1))"
   ]
  },
  {
   "cell_type": "code",
   "execution_count": 9,
   "id": "6d2fe163",
   "metadata": {},
   "outputs": [
    {
     "data": {
      "text/html": [
       "<style>\n",
       ".list-inline {list-style: none; margin:0; padding: 0}\n",
       ".list-inline>li {display: inline-block}\n",
       ".list-inline>li:not(:last-child)::after {content: \"\\00b7\"; padding: 0 .5ex}\n",
       "</style>\n",
       "<ol class=list-inline><li>0.0055426234430826</li><li>0.422305082998372</li><li>0.5</li><li>0.97500210485178</li><li>0.994457376556917</li></ol>\n"
      ],
      "text/latex": [
       "\\begin{enumerate*}\n",
       "\\item 0.0055426234430826\n",
       "\\item 0.422305082998372\n",
       "\\item 0.5\n",
       "\\item 0.97500210485178\n",
       "\\item 0.994457376556917\n",
       "\\end{enumerate*}\n"
      ],
      "text/markdown": [
       "1. 0.0055426234430826\n",
       "2. 0.422305082998372\n",
       "3. 0.5\n",
       "4. 0.97500210485178\n",
       "5. 0.994457376556917\n",
       "\n",
       "\n"
      ],
      "text/plain": [
       "[1] 0.005542623 0.422305083 0.500000000 0.975002105 0.994457377"
      ]
     },
     "metadata": {},
     "output_type": "display_data"
    }
   ],
   "source": [
    "pnorm(c(-2.54, -.196, 0, 1.96, 2.54))"
   ]
  },
  {
   "cell_type": "code",
   "execution_count": 11,
   "id": "211153b5",
   "metadata": {},
   "outputs": [],
   "source": [
    "# 예제 2.7\n",
    "# 평균이 mu, 분산이 sigma^2인 정규분포로부터 독립인 n개의 자료를 얻어서 평균을 얻으면\n",
    "# 평균의 분포는 개닷값 mu, 분산 sigma^2/n인 정규분포를 따른다.\n",
    "# 예를 들어, 평균이 0, 분산이 5인 10개의 자료에서 평균을 계산하면 이 표본평균은 기댓값 0,  분산 5/10=0.5인 정규분포를 따른다.\n",
    "# 이를 확인하기 위해 10개의 정규분포 난수에서 평균을 얻는 것을 1,000번 반복하여 이 1,000개의 평균들의 평균과 분산을 계산해보자."
   ]
  },
  {
   "cell_type": "code",
   "execution_count": 12,
   "id": "1955da05",
   "metadata": {},
   "outputs": [
    {
     "data": {
      "text/html": [
       "<dl>\n",
       "\t<dt>$meanxbar</dt>\n",
       "\t\t<dd>-0.0149309371339041</dd>\n",
       "\t<dt>$varxbar</dt>\n",
       "\t\t<dd>0.444216497676817</dd>\n",
       "</dl>\n"
      ],
      "text/latex": [
       "\\begin{description}\n",
       "\\item[\\$meanxbar] -0.0149309371339041\n",
       "\\item[\\$varxbar] 0.444216497676817\n",
       "\\end{description}\n"
      ],
      "text/markdown": [
       "$meanxbar\n",
       ":   -0.0149309371339041\n",
       "$varxbar\n",
       ":   0.444216497676817\n",
       "\n",
       "\n"
      ],
      "text/plain": [
       "$meanxbar\n",
       "[1] -0.01493094\n",
       "\n",
       "$varxbar\n",
       "[1] 0.4442165\n"
      ]
     },
     "metadata": {},
     "output_type": "display_data"
    }
   ],
   "source": [
    "z.mean <- function(nn=10, nrep=1000){ #z.mean.r\n",
    "    xbar <- rep(0, nrep)\n",
    "    stdev <- sqrt(5)\n",
    "    for (i in 1:nrep){\n",
    "        xbar[i] <- mean(rnorm(nn, 0 , stdev))\n",
    "    }\n",
    "    list(meanxbar=mean(xbar), varxbar=var(xbar))\n",
    "}\n",
    "z.mean()"
   ]
  },
  {
   "cell_type": "code",
   "execution_count": 14,
   "id": "828f874a",
   "metadata": {},
   "outputs": [],
   "source": [
    "# 예제 2.8\n",
    "# 표준정규분포로부터의 난수 1,000개를 발생하여 이를 히스토그램을 그려 보자."
   ]
  },
  {
   "cell_type": "code",
   "execution_count": null,
   "id": "7b155244",
   "metadata": {},
   "outputs": [],
   "source": []
  }
 ],
 "metadata": {
  "kernelspec": {
   "display_name": "R",
   "language": "R",
   "name": "ir"
  },
  "language_info": {
   "codemirror_mode": "r",
   "file_extension": ".r",
   "mimetype": "text/x-r-source",
   "name": "R",
   "pygments_lexer": "r",
   "version": "4.1.2"
  }
 },
 "nbformat": 4,
 "nbformat_minor": 5
}
