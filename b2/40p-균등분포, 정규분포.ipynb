{
 "cells": [
  {
   "cell_type": "code",
   "execution_count": 1,
   "id": "b6cbd001",
   "metadata": {},
   "outputs": [],
   "source": [
    "# 예제 2.5\n",
    "# U(0, 1)은 0 부터 1사이에 균일한 분포확률을 가지므로 f(x) = 1, 0 <x<1이다.\n",
    "# U(0, 1)에서 100개의 난수를 생성하여 이들의 평균을 계산해 보면 0.4954645로 0.5에 근접한 값이 얻어짐을 알 수 있다."
   ]
  },
  {
   "cell_type": "code",
   "execution_count": 2,
   "id": "f5ba69b9",
   "metadata": {},
   "outputs": [
    {
     "data": {
      "text/html": [
       "1"
      ],
      "text/latex": [
       "1"
      ],
      "text/markdown": [
       "1"
      ],
      "text/plain": [
       "[1] 1"
      ]
     },
     "metadata": {},
     "output_type": "display_data"
    }
   ],
   "source": [
    "dunif(1)"
   ]
  },
  {
   "cell_type": "code",
   "execution_count": 3,
   "id": "1d1198ff",
   "metadata": {},
   "outputs": [
    {
     "data": {
      "text/html": [
       "0.5"
      ],
      "text/latex": [
       "0.5"
      ],
      "text/markdown": [
       "0.5"
      ],
      "text/plain": [
       "[1] 0.5"
      ]
     },
     "metadata": {},
     "output_type": "display_data"
    }
   ],
   "source": [
    "punif(0.5)"
   ]
  },
  {
   "cell_type": "code",
   "execution_count": 4,
   "id": "55e7d55a",
   "metadata": {},
   "outputs": [
    {
     "data": {
      "text/html": [
       "0.496163377687335"
      ],
      "text/latex": [
       "0.496163377687335"
      ],
      "text/markdown": [
       "0.496163377687335"
      ],
      "text/plain": [
       "[1] 0.4961634"
      ]
     },
     "metadata": {},
     "output_type": "display_data"
    }
   ],
   "source": [
    "mean(runif(100))"
   ]
  },
  {
   "cell_type": "code",
   "execution_count": 5,
   "id": "fc581f49",
   "metadata": {},
   "outputs": [],
   "source": [
    "# 2.5 정규분포"
   ]
  },
  {
   "cell_type": "code",
   "execution_count": 6,
   "id": "e5579638",
   "metadata": {},
   "outputs": [],
   "source": [
    "# 예제2.6\n",
    "# 통계학의 표준정규분포에서 Za를 제 100(1-alpha)% 백분위수로 표시한다. 예를 들어,  z0.05는 제 95% 백분위수이다."
   ]
  },
  {
   "cell_type": "code",
   "execution_count": 7,
   "id": "191cf5c5",
   "metadata": {},
   "outputs": [
    {
     "data": {
      "text/html": [
       "-1.95996398454005"
      ],
      "text/latex": [
       "-1.95996398454005"
      ],
      "text/markdown": [
       "-1.95996398454005"
      ],
      "text/plain": [
       "[1] -1.959964"
      ]
     },
     "metadata": {},
     "output_type": "display_data"
    }
   ],
   "source": [
    "qnorm(0.025)"
   ]
  },
  {
   "cell_type": "code",
   "execution_count": 8,
   "id": "e01cef4d",
   "metadata": {},
   "outputs": [
    {
     "data": {
      "text/html": [
       "<style>\n",
       ".list-inline {list-style: none; margin:0; padding: 0}\n",
       ".list-inline>li {display: inline-block}\n",
       ".list-inline>li:not(:last-child)::after {content: \"\\00b7\"; padding: 0 .5ex}\n",
       "</style>\n",
       "<ol class=list-inline><li>0.241970724519143</li><li>0.398942280401433</li><li>0.241970724519143</li></ol>\n"
      ],
      "text/latex": [
       "\\begin{enumerate*}\n",
       "\\item 0.241970724519143\n",
       "\\item 0.398942280401433\n",
       "\\item 0.241970724519143\n",
       "\\end{enumerate*}\n"
      ],
      "text/markdown": [
       "1. 0.241970724519143\n",
       "2. 0.398942280401433\n",
       "3. 0.241970724519143\n",
       "\n",
       "\n"
      ],
      "text/plain": [
       "[1] 0.2419707 0.3989423 0.2419707"
      ]
     },
     "metadata": {},
     "output_type": "display_data"
    }
   ],
   "source": [
    "dnorm(c(-1,0,1))"
   ]
  },
  {
   "cell_type": "code",
   "execution_count": 9,
   "id": "b8f82610",
   "metadata": {},
   "outputs": [
    {
     "data": {
      "text/html": [
       "<style>\n",
       ".list-inline {list-style: none; margin:0; padding: 0}\n",
       ".list-inline>li {display: inline-block}\n",
       ".list-inline>li:not(:last-child)::after {content: \"\\00b7\"; padding: 0 .5ex}\n",
       "</style>\n",
       "<ol class=list-inline><li>0.0055426234430826</li><li>0.422305082998372</li><li>0.5</li><li>0.97500210485178</li><li>0.994457376556917</li></ol>\n"
      ],
      "text/latex": [
       "\\begin{enumerate*}\n",
       "\\item 0.0055426234430826\n",
       "\\item 0.422305082998372\n",
       "\\item 0.5\n",
       "\\item 0.97500210485178\n",
       "\\item 0.994457376556917\n",
       "\\end{enumerate*}\n"
      ],
      "text/markdown": [
       "1. 0.0055426234430826\n",
       "2. 0.422305082998372\n",
       "3. 0.5\n",
       "4. 0.97500210485178\n",
       "5. 0.994457376556917\n",
       "\n",
       "\n"
      ],
      "text/plain": [
       "[1] 0.005542623 0.422305083 0.500000000 0.975002105 0.994457377"
      ]
     },
     "metadata": {},
     "output_type": "display_data"
    }
   ],
   "source": [
    "pnorm(c(-2.54, -.196, 0, 1.96, 2.54))"
   ]
  },
  {
   "cell_type": "code",
   "execution_count": null,
   "id": "78817d1d",
   "metadata": {},
   "outputs": [],
   "source": []
  }
 ],
 "metadata": {
  "kernelspec": {
   "display_name": "R",
   "language": "R",
   "name": "ir"
  },
  "language_info": {
   "codemirror_mode": "r",
   "file_extension": ".r",
   "mimetype": "text/x-r-source",
   "name": "R",
   "pygments_lexer": "r",
   "version": "4.1.2"
  }
 },
 "nbformat": 4,
 "nbformat_minor": 5
}
