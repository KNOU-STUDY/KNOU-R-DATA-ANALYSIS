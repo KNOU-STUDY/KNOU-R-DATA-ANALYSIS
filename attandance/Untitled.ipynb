{
 "cells": [
  {
   "cell_type": "code",
   "execution_count": 1,
   "id": "bdedd084",
   "metadata": {},
   "outputs": [
    {
     "name": "stderr",
     "output_type": "stream",
     "text": [
      "'C:/Users/justk/Documents/R/win-library/4.1'의 위치에 패키지(들)을 설치합니다.\n",
      "(왜냐하면 'lib'가 지정되지 않았기 때문입니다)\n",
      "\n"
     ]
    },
    {
     "name": "stdout",
     "output_type": "stream",
     "text": [
      "package 'datarium' successfully unpacked and MD5 sums checked\n",
      "\n",
      "The downloaded binary packages are in\n",
      "\tC:\\Users\\justk\\AppData\\Local\\Temp\\RtmpMhFlhk\\downloaded_packages\n"
     ]
    },
    {
     "name": "stderr",
     "output_type": "stream",
     "text": [
      "Warning message:\n",
      "\"패키지 'datarium'는 R 버전 4.1.3에서 작성되었습니다\"\n"
     ]
    }
   ],
   "source": [
    "install.packages('datarium')\n",
    "library(datarium)"
   ]
  },
  {
   "cell_type": "code",
   "execution_count": 2,
   "id": "027c9361",
   "metadata": {},
   "outputs": [
    {
     "data": {
      "text/html": [
       "<table class=\"dataframe\">\n",
       "<caption>A matrix: 5 × 60 of type chr</caption>\n",
       "<tbody>\n",
       "\t<tr><th scope=row>id</th><td> 1      </td><td> 2      </td><td> 3      </td><td> 4      </td><td> 5      </td><td> 6      </td><td> 7      </td><td> 8      </td><td> 9      </td><td>10      </td><td>...</td><td>51      </td><td>52      </td><td>53      </td><td>54      </td><td>55      </td><td>56      </td><td>57      </td><td>58      </td><td>59      </td><td>60      </td></tr>\n",
       "\t<tr><th scope=row>gender</th><td>male    </td><td>male    </td><td>male    </td><td>male    </td><td>male    </td><td>male    </td><td>male    </td><td>male    </td><td>male    </td><td>male    </td><td>...</td><td>female  </td><td>female  </td><td>female  </td><td>female  </td><td>female  </td><td>female  </td><td>female  </td><td>female  </td><td>female  </td><td>female  </td></tr>\n",
       "\t<tr><th scope=row>stress</th><td>low     </td><td>low     </td><td>low     </td><td>low     </td><td>low     </td><td>low     </td><td>low     </td><td>low     </td><td>low     </td><td>low     </td><td>...</td><td>high    </td><td>high    </td><td>high    </td><td>high    </td><td>high    </td><td>high    </td><td>high    </td><td>high    </td><td>high    </td><td>high    </td></tr>\n",
       "\t<tr><th scope=row>t1</th><td>5.964417</td><td>5.506574</td><td>5.625011</td><td>5.710243</td><td>5.736350</td><td>5.616418</td><td>5.476803</td><td>5.644752</td><td>6.057531</td><td>5.864048</td><td>...</td><td>5.593956</td><td>5.486839</td><td>5.452907</td><td>5.659519</td><td>5.273704</td><td>5.368449</td><td>5.489559</td><td>5.765244</td><td>5.578024</td><td>5.422013</td></tr>\n",
       "\t<tr><th scope=row>t2</th><td>5.578506</td><td>5.819924</td><td>5.471414</td><td>5.786593</td><td>5.718538</td><td>5.680656</td><td>5.598871</td><td>5.919890</td><td>5.839342</td><td>5.573202</td><td>...</td><td>5.061280</td><td>5.096092</td><td>5.369373</td><td>5.359335</td><td>5.245224</td><td>5.769302</td><td>5.619406</td><td>5.433761</td><td>5.327330</td><td>5.079942</td></tr>\n",
       "</tbody>\n",
       "</table>\n"
      ],
      "text/latex": [
       "A matrix: 5 × 60 of type chr\n",
       "\\begin{tabular}{r|lllllllllllllllllllll}\n",
       "\tid &  1       &  2       &  3       &  4       &  5       &  6       &  7       &  8       &  9       & 10       & ... & 51       & 52       & 53       & 54       & 55       & 56       & 57       & 58       & 59       & 60      \\\\\n",
       "\tgender & male     & male     & male     & male     & male     & male     & male     & male     & male     & male     & ... & female   & female   & female   & female   & female   & female   & female   & female   & female   & female  \\\\\n",
       "\tstress & low      & low      & low      & low      & low      & low      & low      & low      & low      & low      & ... & high     & high     & high     & high     & high     & high     & high     & high     & high     & high    \\\\\n",
       "\tt1 & 5.964417 & 5.506574 & 5.625011 & 5.710243 & 5.736350 & 5.616418 & 5.476803 & 5.644752 & 6.057531 & 5.864048 & ... & 5.593956 & 5.486839 & 5.452907 & 5.659519 & 5.273704 & 5.368449 & 5.489559 & 5.765244 & 5.578024 & 5.422013\\\\\n",
       "\tt2 & 5.578506 & 5.819924 & 5.471414 & 5.786593 & 5.718538 & 5.680656 & 5.598871 & 5.919890 & 5.839342 & 5.573202 & ... & 5.061280 & 5.096092 & 5.369373 & 5.359335 & 5.245224 & 5.769302 & 5.619406 & 5.433761 & 5.327330 & 5.079942\\\\\n",
       "\\end{tabular}\n"
      ],
      "text/markdown": [
       "\n",
       "A matrix: 5 × 60 of type chr\n",
       "\n",
       "| id |  1       |  2       |  3       |  4       |  5       |  6       |  7       |  8       |  9       | 10       | ... | 51       | 52       | 53       | 54       | 55       | 56       | 57       | 58       | 59       | 60       |\n",
       "| gender | male     | male     | male     | male     | male     | male     | male     | male     | male     | male     | ... | female   | female   | female   | female   | female   | female   | female   | female   | female   | female   |\n",
       "| stress | low      | low      | low      | low      | low      | low      | low      | low      | low      | low      | ... | high     | high     | high     | high     | high     | high     | high     | high     | high     | high     |\n",
       "| t1 | 5.964417 | 5.506574 | 5.625011 | 5.710243 | 5.736350 | 5.616418 | 5.476803 | 5.644752 | 6.057531 | 5.864048 | ... | 5.593956 | 5.486839 | 5.452907 | 5.659519 | 5.273704 | 5.368449 | 5.489559 | 5.765244 | 5.578024 | 5.422013 |\n",
       "| t2 | 5.578506 | 5.819924 | 5.471414 | 5.786593 | 5.718538 | 5.680656 | 5.598871 | 5.919890 | 5.839342 | 5.573202 | ... | 5.061280 | 5.096092 | 5.369373 | 5.359335 | 5.245224 | 5.769302 | 5.619406 | 5.433761 | 5.327330 | 5.079942 |\n",
       "\n"
      ],
      "text/plain": [
       "       [,1]     [,2]     [,3]     [,4]     [,5]     [,6]     [,7]     [,8]    \n",
       "id      1        2        3        4        5        6        7        8      \n",
       "gender male     male     male     male     male     male     male     male    \n",
       "stress low      low      low      low      low      low      low      low     \n",
       "t1     5.964417 5.506574 5.625011 5.710243 5.736350 5.616418 5.476803 5.644752\n",
       "t2     5.578506 5.819924 5.471414 5.786593 5.718538 5.680656 5.598871 5.919890\n",
       "       [,9]     [,10]    [,11] [,12]    [,13]    [,14]    [,15]    [,16]   \n",
       "id      9       10       ...   51       52       53       54       55      \n",
       "gender male     male     ...   female   female   female   female   female  \n",
       "stress low      low      ...   high     high     high     high     high    \n",
       "t1     6.057531 5.864048 ...   5.593956 5.486839 5.452907 5.659519 5.273704\n",
       "t2     5.839342 5.573202 ...   5.061280 5.096092 5.369373 5.359335 5.245224\n",
       "       [,17]    [,18]    [,19]    [,20]    [,21]   \n",
       "id     56       57       58       59       60      \n",
       "gender female   female   female   female   female  \n",
       "stress high     high     high     high     high    \n",
       "t1     5.368449 5.489559 5.765244 5.578024 5.422013\n",
       "t2     5.769302 5.619406 5.433761 5.327330 5.079942"
      ]
     },
     "metadata": {},
     "output_type": "display_data"
    }
   ],
   "source": [
    "t(performance)"
   ]
  },
  {
   "cell_type": "code",
   "execution_count": 3,
   "id": "b2d5b71a",
   "metadata": {},
   "outputs": [
    {
     "name": "stderr",
     "output_type": "stream",
     "text": [
      "Warning message:\n",
      "\"패키지 'ggplot2'는 R 버전 4.1.3에서 작성되었습니다\"\n"
     ]
    }
   ],
   "source": [
    "library(ggplot2)"
   ]
  },
  {
   "cell_type": "code",
   "execution_count": 8,
   "id": "306a8a88",
   "metadata": {},
   "outputs": [
    {
     "data": {
      "image/png": "[encoded data removed]",
      "text/plain": [
       "plot without title"
      ]
     },
     "metadata": {
      "image/png": {
       "height": 420,
       "width": 420
      }
     },
     "output_type": "display_data"
    }
   ],
   "source": [
    "ggplot(data=performance, aes(x=t2,y=gender)) + geom_boxplot() + ggtitle(\"202135-367895\")"
   ]
  },
  {
   "cell_type": "code",
   "execution_count": 17,
   "id": "2fe08f81",
   "metadata": {},
   "outputs": [
    {
     "data": {
      "text/plain": [
       "\n",
       "\tWelch Two Sample t-test\n",
       "\n",
       "data:  male and female\n",
       "t = 2.0417, df = 47.396, p-value = 0.02338\n",
       "alternative hypothesis: true difference in means is greater than 0\n",
       "95 percent confidence interval:\n",
       " 0.02190816        Inf\n",
       "sample estimates:\n",
       "mean of x mean of y \n",
       " 5.701607  5.578743 \n"
      ]
     },
     "metadata": {},
     "output_type": "display_data"
    }
   ],
   "source": [
    "male <- performance$t2[performance$gender=='male']\n",
    "female <- performance$t2[performance$gender=='female']\n",
    "t.test(male, female, alternative='greater')"
   ]
  },
  {
   "cell_type": "code",
   "execution_count": 21,
   "id": "1ca1d6d8",
   "metadata": {},
   "outputs": [
    {
     "name": "stdout",
     "output_type": "stream",
     "text": [
      "[1] 5.740256\n",
      "[1] 5.693505\n",
      "[1] 5.486764\n"
     ]
    }
   ],
   "source": [
    "for(stress in unique(performance$stress)){\n",
    "    m <- mean(performance$t2[performance$stress==stress])\n",
    "    print(m)\n",
    "}"
   ]
  },
  {
   "cell_type": "code",
   "execution_count": 22,
   "id": "5f522a84",
   "metadata": {},
   "outputs": [
    {
     "data": {
      "text/plain": [
       "\n",
       "\tOne-way analysis of means\n",
       "\n",
       "data:  y and x\n",
       "F = 7.8311, num df = 2, denom df = 57, p-value = 0.0009889\n"
      ]
     },
     "metadata": {},
     "output_type": "display_data"
    }
   ],
   "source": [
    "y <- performance$t2\n",
    "x <- performance$stress\n",
    "oneway.test(y ~ x, var.equal = T)"
   ]
  },
  {
   "cell_type": "code",
   "execution_count": 23,
   "id": "3ecfc3fe",
   "metadata": {},
   "outputs": [
    {
     "data": {
      "text/html": [
       "<style>\n",
       ".list-inline {list-style: none; margin:0; padding: 0}\n",
       ".list-inline>li {display: inline-block}\n",
       ".list-inline>li:not(:last-child)::after {content: \"\\00b7\"; padding: 0 .5ex}\n",
       "</style>\n",
       "<ol class=list-inline><li>(5.5,5.8]</li><li>(5.8,Inf]</li><li>(0,5.5]</li><li>(5.5,5.8]</li><li>(5.5,5.8]</li><li>(5.5,5.8]</li><li>(5.5,5.8]</li><li>(5.8,Inf]</li><li>(5.8,Inf]</li><li>(5.5,5.8]</li><li>(5.5,5.8]</li><li>(5.5,5.8]</li><li>(5.5,5.8]</li><li>(5.5,5.8]</li><li>(5.8,Inf]</li><li>(5.8,Inf]</li><li>(5.5,5.8]</li><li>(5.5,5.8]</li><li>(5.5,5.8]</li><li>(5.8,Inf]</li><li>(5.5,5.8]</li><li>(0,5.5]</li><li>(0,5.5]</li><li>(5.8,Inf]</li><li>(5.5,5.8]</li><li>(5.8,Inf]</li><li>(5.5,5.8]</li><li>(0,5.5]</li><li>(5.5,5.8]</li><li>(5.8,Inf]</li><li>(5.5,5.8]</li><li>(5.8,Inf]</li><li>(5.5,5.8]</li><li>(5.5,5.8]</li><li>(5.5,5.8]</li><li>(5.8,Inf]</li><li>(5.8,Inf]</li><li>(5.5,5.8]</li><li>(5.5,5.8]</li><li>(5.5,5.8]</li><li>(0,5.5]</li><li>(5.8,Inf]</li><li>(0,5.5]</li><li>(5.5,5.8]</li><li>(5.5,5.8]</li><li>(5.8,Inf]</li><li>(5.5,5.8]</li><li>(0,5.5]</li><li>(5.8,Inf]</li><li>(0,5.5]</li><li>(0,5.5]</li><li>(0,5.5]</li><li>(0,5.5]</li><li>(0,5.5]</li><li>(0,5.5]</li><li>(5.5,5.8]</li><li>(5.5,5.8]</li><li>(0,5.5]</li><li>(0,5.5]</li><li>(0,5.5]</li></ol>\n",
       "\n",
       "<details>\n",
       "\t<summary style=display:list-item;cursor:pointer>\n",
       "\t\t<strong>Levels</strong>:\n",
       "\t</summary>\n",
       "\t<style>\n",
       "\t.list-inline {list-style: none; margin:0; padding: 0}\n",
       "\t.list-inline>li {display: inline-block}\n",
       "\t.list-inline>li:not(:last-child)::after {content: \"\\00b7\"; padding: 0 .5ex}\n",
       "\t</style>\n",
       "\t<ol class=list-inline><li>'(0,5.5]'</li><li>'(5.5,5.8]'</li><li>'(5.8,Inf]'</li></ol>\n",
       "</details>"
      ],
      "text/latex": [
       "\\begin{enumerate*}\n",
       "\\item (5.5,5.8{]}\n",
       "\\item (5.8,Inf{]}\n",
       "\\item (0,5.5{]}\n",
       "\\item (5.5,5.8{]}\n",
       "\\item (5.5,5.8{]}\n",
       "\\item (5.5,5.8{]}\n",
       "\\item (5.5,5.8{]}\n",
       "\\item (5.8,Inf{]}\n",
       "\\item (5.8,Inf{]}\n",
       "\\item (5.5,5.8{]}\n",
       "\\item (5.5,5.8{]}\n",
       "\\item (5.5,5.8{]}\n",
       "\\item (5.5,5.8{]}\n",
       "\\item (5.5,5.8{]}\n",
       "\\item (5.8,Inf{]}\n",
       "\\item (5.8,Inf{]}\n",
       "\\item (5.5,5.8{]}\n",
       "\\item (5.5,5.8{]}\n",
       "\\item (5.5,5.8{]}\n",
       "\\item (5.8,Inf{]}\n",
       "\\item (5.5,5.8{]}\n",
       "\\item (0,5.5{]}\n",
       "\\item (0,5.5{]}\n",
       "\\item (5.8,Inf{]}\n",
       "\\item (5.5,5.8{]}\n",
       "\\item (5.8,Inf{]}\n",
       "\\item (5.5,5.8{]}\n",
       "\\item (0,5.5{]}\n",
       "\\item (5.5,5.8{]}\n",
       "\\item (5.8,Inf{]}\n",
       "\\item (5.5,5.8{]}\n",
       "\\item (5.8,Inf{]}\n",
       "\\item (5.5,5.8{]}\n",
       "\\item (5.5,5.8{]}\n",
       "\\item (5.5,5.8{]}\n",
       "\\item (5.8,Inf{]}\n",
       "\\item (5.8,Inf{]}\n",
       "\\item (5.5,5.8{]}\n",
       "\\item (5.5,5.8{]}\n",
       "\\item (5.5,5.8{]}\n",
       "\\item (0,5.5{]}\n",
       "\\item (5.8,Inf{]}\n",
       "\\item (0,5.5{]}\n",
       "\\item (5.5,5.8{]}\n",
       "\\item (5.5,5.8{]}\n",
       "\\item (5.8,Inf{]}\n",
       "\\item (5.5,5.8{]}\n",
       "\\item (0,5.5{]}\n",
       "\\item (5.8,Inf{]}\n",
       "\\item (0,5.5{]}\n",
       "\\item (0,5.5{]}\n",
       "\\item (0,5.5{]}\n",
       "\\item (0,5.5{]}\n",
       "\\item (0,5.5{]}\n",
       "\\item (0,5.5{]}\n",
       "\\item (5.5,5.8{]}\n",
       "\\item (5.5,5.8{]}\n",
       "\\item (0,5.5{]}\n",
       "\\item (0,5.5{]}\n",
       "\\item (0,5.5{]}\n",
       "\\end{enumerate*}\n",
       "\n",
       "\\emph{Levels}: \\begin{enumerate*}\n",
       "\\item '(0,5.5{]}'\n",
       "\\item '(5.5,5.8{]}'\n",
       "\\item '(5.8,Inf{]}'\n",
       "\\end{enumerate*}\n"
      ],
      "text/markdown": [
       "1. (5.5,5.8]\n",
       "2. (5.8,Inf]\n",
       "3. (0,5.5]\n",
       "4. (5.5,5.8]\n",
       "5. (5.5,5.8]\n",
       "6. (5.5,5.8]\n",
       "7. (5.5,5.8]\n",
       "8. (5.8,Inf]\n",
       "9. (5.8,Inf]\n",
       "10. (5.5,5.8]\n",
       "11. (5.5,5.8]\n",
       "12. (5.5,5.8]\n",
       "13. (5.5,5.8]\n",
       "14. (5.5,5.8]\n",
       "15. (5.8,Inf]\n",
       "16. (5.8,Inf]\n",
       "17. (5.5,5.8]\n",
       "18. (5.5,5.8]\n",
       "19. (5.5,5.8]\n",
       "20. (5.8,Inf]\n",
       "21. (5.5,5.8]\n",
       "22. (0,5.5]\n",
       "23. (0,5.5]\n",
       "24. (5.8,Inf]\n",
       "25. (5.5,5.8]\n",
       "26. (5.8,Inf]\n",
       "27. (5.5,5.8]\n",
       "28. (0,5.5]\n",
       "29. (5.5,5.8]\n",
       "30. (5.8,Inf]\n",
       "31. (5.5,5.8]\n",
       "32. (5.8,Inf]\n",
       "33. (5.5,5.8]\n",
       "34. (5.5,5.8]\n",
       "35. (5.5,5.8]\n",
       "36. (5.8,Inf]\n",
       "37. (5.8,Inf]\n",
       "38. (5.5,5.8]\n",
       "39. (5.5,5.8]\n",
       "40. (5.5,5.8]\n",
       "41. (0,5.5]\n",
       "42. (5.8,Inf]\n",
       "43. (0,5.5]\n",
       "44. (5.5,5.8]\n",
       "45. (5.5,5.8]\n",
       "46. (5.8,Inf]\n",
       "47. (5.5,5.8]\n",
       "48. (0,5.5]\n",
       "49. (5.8,Inf]\n",
       "50. (0,5.5]\n",
       "51. (0,5.5]\n",
       "52. (0,5.5]\n",
       "53. (0,5.5]\n",
       "54. (0,5.5]\n",
       "55. (0,5.5]\n",
       "56. (5.5,5.8]\n",
       "57. (5.5,5.8]\n",
       "58. (0,5.5]\n",
       "59. (0,5.5]\n",
       "60. (0,5.5]\n",
       "\n",
       "\n",
       "\n",
       "**Levels**: 1. '(0,5.5]'\n",
       "2. '(5.5,5.8]'\n",
       "3. '(5.8,Inf]'\n",
       "\n",
       "\n"
      ],
      "text/plain": [
       " [1] (5.5,5.8] (5.8,Inf] (0,5.5]   (5.5,5.8] (5.5,5.8] (5.5,5.8] (5.5,5.8]\n",
       " [8] (5.8,Inf] (5.8,Inf] (5.5,5.8] (5.5,5.8] (5.5,5.8] (5.5,5.8] (5.5,5.8]\n",
       "[15] (5.8,Inf] (5.8,Inf] (5.5,5.8] (5.5,5.8] (5.5,5.8] (5.8,Inf] (5.5,5.8]\n",
       "[22] (0,5.5]   (0,5.5]   (5.8,Inf] (5.5,5.8] (5.8,Inf] (5.5,5.8] (0,5.5]  \n",
       "[29] (5.5,5.8] (5.8,Inf] (5.5,5.8] (5.8,Inf] (5.5,5.8] (5.5,5.8] (5.5,5.8]\n",
       "[36] (5.8,Inf] (5.8,Inf] (5.5,5.8] (5.5,5.8] (5.5,5.8] (0,5.5]   (5.8,Inf]\n",
       "[43] (0,5.5]   (5.5,5.8] (5.5,5.8] (5.8,Inf] (5.5,5.8] (0,5.5]   (5.8,Inf]\n",
       "[50] (0,5.5]   (0,5.5]   (0,5.5]   (0,5.5]   (0,5.5]   (0,5.5]   (5.5,5.8]\n",
       "[57] (5.5,5.8] (0,5.5]   (0,5.5]   (0,5.5]  \n",
       "Levels: (0,5.5] (5.5,5.8] (5.8,Inf]"
      ]
     },
     "metadata": {},
     "output_type": "display_data"
    }
   ],
   "source": [
    "cut(performance$t2, c(0,5.5,5.8,Inf))"
   ]
  },
  {
   "cell_type": "code",
   "execution_count": 53,
   "id": "cc14cf3e",
   "metadata": {},
   "outputs": [
    {
     "data": {
      "text/html": [
       "<style>\n",
       ".list-inline {list-style: none; margin:0; padding: 0}\n",
       ".list-inline>li {display: inline-block}\n",
       ".list-inline>li:not(:last-child)::after {content: \"\\00b7\"; padding: 0 .5ex}\n",
       "</style>\n",
       "<ol class=list-inline><li>6</li><li>3</li><li>11</li></ol>\n"
      ],
      "text/latex": [
       "\\begin{enumerate*}\n",
       "\\item 6\n",
       "\\item 3\n",
       "\\item 11\n",
       "\\end{enumerate*}\n"
      ],
      "text/markdown": [
       "1. 6\n",
       "2. 3\n",
       "3. 11\n",
       "\n",
       "\n"
      ],
      "text/plain": [
       "[1]  6  3 11"
      ]
     },
     "metadata": {},
     "output_type": "display_data"
    },
    {
     "data": {
      "text/html": [
       "<style>\n",
       ".list-inline {list-style: none; margin:0; padding: 0}\n",
       ".list-inline>li {display: inline-block}\n",
       ".list-inline>li:not(:last-child)::after {content: \"\\00b7\"; padding: 0 .5ex}\n",
       "</style>\n",
       "<ol class=list-inline><li>10</li><li>6</li><li>4</li></ol>\n"
      ],
      "text/latex": [
       "\\begin{enumerate*}\n",
       "\\item 10\n",
       "\\item 6\n",
       "\\item 4\n",
       "\\end{enumerate*}\n"
      ],
      "text/markdown": [
       "1. 10\n",
       "2. 6\n",
       "3. 4\n",
       "\n",
       "\n"
      ],
      "text/plain": [
       "[1] 10  6  4"
      ]
     },
     "metadata": {},
     "output_type": "display_data"
    },
    {
     "data": {
      "text/html": [
       "<style>\n",
       ".list-inline {list-style: none; margin:0; padding: 0}\n",
       ".list-inline>li {display: inline-block}\n",
       ".list-inline>li:not(:last-child)::after {content: \"\\00b7\"; padding: 0 .5ex}\n",
       "</style>\n",
       "<ol class=list-inline><li>13</li><li>6</li><li>1</li></ol>\n"
      ],
      "text/latex": [
       "\\begin{enumerate*}\n",
       "\\item 13\n",
       "\\item 6\n",
       "\\item 1\n",
       "\\end{enumerate*}\n"
      ],
      "text/markdown": [
       "1. 13\n",
       "2. 6\n",
       "3. 1\n",
       "\n",
       "\n"
      ],
      "text/plain": [
       "[1] 13  6  1"
      ]
     },
     "metadata": {},
     "output_type": "display_data"
    }
   ],
   "source": [
    "high <- c(0,0,0)\n",
    "moderate <- c(0,0,0)\n",
    "low <- c(0,0,0)\n",
    "grp <- cut(performance$t2, c(0,5.5,5.8,Inf))\n",
    "for(i in 1:length(performance$t2)){\n",
    "    idx <- 0\n",
    "    for(gr in unique(grp)){\n",
    "        idx <- idx + 1\n",
    "        if(gr==grp[i]){\n",
    "            break\n",
    "        }\n",
    "    }\n",
    "    if('high' == performance$stress[i]){\n",
    "        high[idx] <- high[idx] + 1\n",
    "    }else if('moderate' == performance$stress[i]){\n",
    "        moderate[idx] <- moderate[idx] + 1\n",
    "    }else{\n",
    "        low[idx] <- low[idx] + 1 \n",
    "    }\n",
    "}\n",
    "high\n",
    "moderate\n",
    "low"
   ]
  },
  {
   "cell_type": "code",
   "execution_count": 55,
   "id": "dcf03315",
   "metadata": {},
   "outputs": [
    {
     "data": {
      "text/plain": [
       "\n",
       "\tPearson's Chi-squared test\n",
       "\n",
       "data:  matrix(c(high, moderate, low), ncol = 3, byrow = T)\n",
       "X-squared = 13.627, df = 4, p-value = 0.008587\n"
      ]
     },
     "metadata": {},
     "output_type": "display_data"
    }
   ],
   "source": [
    "chisq.test(matrix(c(high, moderate, low), ncol=3, byrow=T))"
   ]
  },
  {
   "cell_type": "code",
   "execution_count": 56,
   "id": "2bd98043",
   "metadata": {},
   "outputs": [
    {
     "data": {
      "text/plain": [
       "\n",
       "Call:\n",
       "lm(formula = performance$t2 ~ performance$t1)\n",
       "\n",
       "Coefficients:\n",
       "   (Intercept)  performance$t1  \n",
       "        4.3801          0.2231  \n"
      ]
     },
     "metadata": {},
     "output_type": "display_data"
    }
   ],
   "source": [
    "lm(performance$t2 ~ performance$t1)"
   ]
  },
  {
   "cell_type": "code",
   "execution_count": 59,
   "id": "f239ea5f",
   "metadata": {},
   "outputs": [
    {
     "name": "stderr",
     "output_type": "stream",
     "text": [
      "Warning message:\n",
      "\"패키지 'lattice'는 R 버전 4.1.3에서 작성되었습니다\"\n"
     ]
    }
   ],
   "source": [
    "library(lattice)"
   ]
  },
  {
   "cell_type": "code",
   "execution_count": 65,
   "id": "b379f2ab",
   "metadata": {},
   "outputs": [
    {
     "data": {
      "image/png": "[encoded data removed]",
      "text/plain": [
       "plot without title"
      ]
     },
     "metadata": {
      "image/png": {
       "height": 420,
       "width": 420
      }
     },
     "output_type": "display_data"
    }
   ],
   "source": [
    "xyplot(performance$t2 ~ performance$t1, main=\"202135-367895\", panel=function(x,y){\n",
    "    panel.xyplot(x,y)\n",
    "    panel.lmline(x, y)\n",
    "})"
   ]
  },
  {
   "cell_type": "code",
   "execution_count": 66,
   "id": "9c941ff7",
   "metadata": {},
   "outputs": [
    {
     "data": {
      "image/png": "[encoded data removed]",
      "text/plain": [
       "Plot with title \"Histogram of performance$t2\""
      ]
     },
     "metadata": {
      "image/png": {
       "height": 420,
       "width": 420
      }
     },
     "output_type": "display_data"
    }
   ],
   "source": [
    "hist(performance$t2)"
   ]
  },
  {
   "cell_type": "code",
   "execution_count": 70,
   "id": "094df721",
   "metadata": {},
   "outputs": [
    {
     "data": {
      "image/png": "[encoded data removed]",
      "text/plain": [
       "plot without title"
      ]
     },
     "metadata": {
      "image/png": {
       "height": 420,
       "width": 420
      }
     },
     "output_type": "display_data"
    },
    {
     "data": {
      "image/png": "[encoded data removed]",
      "text/plain": [
       "plot without title"
      ]
     },
     "metadata": {
      "image/png": {
       "height": 420,
       "width": 420
      }
     },
     "output_type": "display_data"
    }
   ],
   "source": [
    "histogram(performance$t2[performance$gender=='male'])\n",
    "histogram(performance$t2[performance$gender=='female'])"
   ]
  },
  {
   "cell_type": "code",
   "execution_count": null,
   "id": "a3d93950",
   "metadata": {},
   "outputs": [],
   "source": []
  }
 ],
 "metadata": {
  "kernelspec": {
   "display_name": "R",
   "language": "R",
   "name": "ir"
  },
  "language_info": {
   "codemirror_mode": "r",
   "file_extension": ".r",
   "mimetype": "text/x-r-source",
   "name": "R",
   "pygments_lexer": "r",
   "version": "4.1.2"
  }
 },
 "nbformat": 4,
 "nbformat_minor": 5
}
